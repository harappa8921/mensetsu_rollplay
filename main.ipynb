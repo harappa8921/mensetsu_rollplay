{
 "cells": [
  {
   "cell_type": "code",
   "execution_count": 172,
   "metadata": {},
   "outputs": [],
   "source": [
    "import os\n",
    "import openai\n",
    "import httpx\n",
    "\n",
    "from dotenv import load_dotenv\n",
    "from langchain_openai import ChatOpenAI\n",
    "from langchain_core.prompts import ChatPromptTemplate\n",
    "from langchain_core.output_parsers import StrOutputParser\n",
    "from langchain_core.messages import HumanMessage, AIMessage\n",
    "from langchain.memory import ConversationBufferMemory\n",
    "\n",
    "import re"
   ]
  },
  {
   "cell_type": "markdown",
   "metadata": {},
   "source": [
    "## 0. 事前準備"
   ]
  },
  {
   "cell_type": "code",
   "execution_count": 162,
   "metadata": {},
   "outputs": [],
   "source": [
    "# APIキー設定\n",
    "load_dotenv()\n",
    "openai_api_key = os.environ[\"OPENAI_API_KEY\"]"
   ]
  },
  {
   "cell_type": "code",
   "execution_count": 163,
   "metadata": {},
   "outputs": [],
   "source": [
    "# モデル選択\n",
    "model_list = {\n",
    "    1:\"gpt-3.5-turbo\",\n",
    "    2:\"gpt-4o\"\n",
    "}\n",
    "\n",
    "model_choice = 1"
   ]
  },
  {
   "cell_type": "code",
   "execution_count": null,
   "metadata": {},
   "outputs": [],
   "source": [
    "# モデル定義\n",
    "llm = ChatOpenAI(\n",
    "    model=model_list[model_choice],\n",
    "    temperature=0.7,\n",
    "    openai_api_key=openai_api_key\n",
    ")\n",
    "\n",
    "# OutputParser\n",
    "StrOutputParser = StrOutputParser()"
   ]
  },
  {
   "cell_type": "code",
   "execution_count": 165,
   "metadata": {},
   "outputs": [],
   "source": [
    "# メモリ準備\n",
    "memory = ConversationBufferMemory(return_messages=True)"
   ]
  },
  {
   "cell_type": "markdown",
   "metadata": {},
   "source": [
    "### ユーザプロファイル"
   ]
  },
  {
   "cell_type": "code",
   "execution_count": 166,
   "metadata": {},
   "outputs": [],
   "source": [
    "# ユーザプロファイル\n",
    "profile = {\n",
    "    \"age\": 30,\n",
    "    \"current_gyokai\": \"自動車\",\n",
    "    \"current_job\": \"機械系エンジニア\",\n",
    "    \"role\": \"リーダー\",\n",
    "    \"experience_years\": 5,\n",
    "\n",
    "    \"target_gyokai\": \"コンサル\",\n",
    "    \"target_job\": \"データサイエンティスト\"\n",
    "}"
   ]
  },
  {
   "cell_type": "markdown",
   "metadata": {},
   "source": [
    "### 共通プロンプト"
   ]
  },
  {
   "cell_type": "code",
   "execution_count": 167,
   "metadata": {},
   "outputs": [],
   "source": [
    "# 共通ルールプロンプト\n",
    "rules = f\"\"\"\n",
    "# 前提条件\n",
    "- タイトル：他の企業へ転職するための面接対策ロールプレイ実施\n",
    "- 求職者情報：\n",
    "    - 年齢：{profile[\"age\"]}\n",
    "    - 現在の業界：{profile[\"current_gyokai\"]}業界\n",
    "    - 現在の職種；{profile[\"current_job\"]}\n",
    "    - 現在の役割；{profile[\"role\"]}\n",
    "    - 経験年数：{profile[\"experience_years\"]}\n",
    "- 面接官情報：{profile[\"target_gyokai\"]}業界、{profile[\"target_job\"]}の経験が15年の部長で面接官\n",
    "- 目的と目標：面接のロールプレイを通して依頼者の面接スキルアップ\n",
    "- 評価基準：\n",
    "　- リアリティのある面接ロールプレイであること\n",
    "　- 依頼者の面接スキルが上がるフィードバックをすること\n",
    "\n",
    "# 制約事項\n",
    "- 面接対象者が異業界または異業種への職種なのかを考慮し、質問内容を変えること\n",
    "　例：転職先特有の求められる人格を持っているかを判断するための質問をする\n",
    "- 職種未経験転職であれば専門スキルレベルのみは問うレベルは低く設定すること\n",
    "- 面接対象者の年齢を考慮して質問内容を変えること\n",
    "　例：20代：タスクを自分ごととして実行できるかを問う\n",
    "　　　30代前半：リーダとして部下のマネジメント、育成について問う\n",
    "　　　30代後半以降：事業を考えたマネジメントについて問う\n",
    "- ロールプレイは実際の面接官が話すような口調で実施すること\n",
    "- 面接が始まったら\"【質問1】〇〇を図る質問\"などタイトルにあたる部分は表示せず、リアルの面接のように質問のみを表示すること\n",
    "\"\"\""
   ]
  },
  {
   "cell_type": "markdown",
   "metadata": {},
   "source": [
    "### 共通関数"
   ]
  },
  {
   "cell_type": "code",
   "execution_count": 173,
   "metadata": {},
   "outputs": [],
   "source": [
    "# 読点で改行する関数\n",
    "def add_newlines_by_period(text):\n",
    "    # 。？！（全角）で文を区切って改行を入れる\n",
    "    return re.sub(r'(?<=[。？！])', '\\n', text)"
   ]
  },
  {
   "cell_type": "code",
   "execution_count": 187,
   "metadata": {},
   "outputs": [],
   "source": [
    "# 会話履歴保存関数\n",
    "def get_history_text(memory):\n",
    "    return \"\\n\".join([\n",
    "        f\"{'面接官' if isinstance(m, AIMessage) else 'あなた'}：{m.content}\"\n",
    "        for m in memory.chat_memory.messages\n",
    "    ])"
   ]
  },
  {
   "cell_type": "markdown",
   "metadata": {},
   "source": [
    "## 1. Chain定義"
   ]
  },
  {
   "cell_type": "markdown",
   "metadata": {},
   "source": [
    "### 1.1 自己紹介要求"
   ]
  },
  {
   "cell_type": "code",
   "execution_count": 168,
   "metadata": {},
   "outputs": [],
   "source": [
    "# 定型文\n",
    "intro_message = (\n",
    "\"\"\"それでは、最初にあなたの自己紹介を1分（400字程度）でお願いします。\n",
    "これまでのご経歴やスキルについても触れていただければと思います。\"\"\"\n",
    ")"
   ]
  },
  {
   "cell_type": "markdown",
   "metadata": {},
   "source": [
    "### 1.2 質問生成chain"
   ]
  },
  {
   "cell_type": "code",
   "execution_count": 169,
   "metadata": {},
   "outputs": [],
   "source": [
    "# プロンプト要素\n",
    "## 質問リスト\n",
    "questions_list = [\n",
    "    {\n",
    "        \"title\": \"転職全般に関する質問\",\n",
    "        \"point_keys\": [\"定着性\"],\n",
    "        \"content\": \"\"\"- 転職全般に関する質問\n",
    "　- 評価ポイント：\"定着性\"\n",
    "　- 例：志望動機、転職理由、なぜこの職種なのか　など\n",
    "　- 職種と業界どちらも現在と希望でことのある場合は、職種に関する質問を優先すること\"\"\"\n",
    "    },\n",
    "    {\n",
    "        \"title\": \"現職の取り組みに関する質問\",\n",
    "        \"point_keys\": [\"課題解決力\", \"自走力\"],\n",
    "        \"content\": \"\"\"- 現職の取り組みに関する質問\n",
    "　- 評価ポイント：\"課題解決力\"、\"自走力\"\n",
    "　- 例：現在の仕事で課題があったとき、どう対応したか\n",
    "　　　　現在の仕事で一番頑張ったこと\"\"\"\n",
    "    },\n",
    "    {\n",
    "        \"title\": \"職種に適正があるかを図る質問\",\n",
    "        \"point_keys\": [\"自走力\", \"スキル\"],\n",
    "        \"content\": \"\"\"- 職種に適正があるかを図る質問\n",
    "　- 評価ポイント：\"自走力\"、\"スキル\"\n",
    "　- 例：営業であれば失敗してもへこたれずに継続する力が必要なので「業務で失敗した経験と、失敗した後何をしたか」を聞く\n",
    "　　　エンジニアやデータサイエンティストであれば自己研鑽力、キャッチアップ力が必要なので「業務外で取り組んでいる学習は何か」を聞く\"\"\"\n",
    "    },\n",
    "    {\n",
    "        \"title\": \"職務を全うできるスキルがあるかを問う質問\",\n",
    "        \"point_keys\": [\"スキル\"],\n",
    "        \"content\": \"\"\"- 職務を全うできるスキルがあるかを問う質問\n",
    "　- 評価ポイント：\"スキル\"\n",
    "　- 例：データアナリストであれば、「データを分析してビジネスに活用したことがあるか」を聞く\"\"\"\n",
    "    }\n",
    "]\n",
    "\n",
    "## 評価ポイント\n",
    "evaluation_points_list = {\n",
    "    \"コミュニケーション力\": \"質疑内容からQAの不一致がないか、結論ベースで会話ができるかを評価する\",\n",
    "    \"定着性\": \"転職理由、志望動機などから長く働いてくれるかを評価する\",\n",
    "    \"課題解決力\": \"課題に対して仮説思考を持って解決するための行動ができるかを評価する\",\n",
    "    \"自走力\": \"仕事を自分ごととして捉えてやり切る力があるかを評価する\",\n",
    "    \"スキル\": \"対象の業界、職種で活躍するために最低限必要なスキル、知識があるかを評価する\"\n",
    "}"
   ]
  },
  {
   "cell_type": "code",
   "execution_count": 170,
   "metadata": {},
   "outputs": [],
   "source": [
    "# プロンプトテンプレート定義\n",
    "question_prompt = ChatPromptTemplate.from_template(\"\"\"\n",
    "{rules}\n",
    "\n",
    "# 実行指示\n",
    "\"前提条件\"、\"制約事項\"を考慮して、\"求職者情報\"を参考に\"評価ポイント\"を評価できる\"質問項目\"に関する転職面接にありそうなリアルな質問を1つ出力すること。\n",
    "また、\"会話履歴\"も考慮すること。\n",
    "\n",
    "# 質問事項\n",
    "{question}\n",
    "\n",
    "# 評価ポイント\n",
    "{evaluation_points}\n",
    "\n",
    "# 会話履歴\n",
    "{history}\"\"\")\n",
    "\n",
    "# チェーン定義\n",
    "create_question_chain = question_prompt | llm | StrOutputParser"
   ]
  },
  {
   "cell_type": "markdown",
   "metadata": {},
   "source": [
    "## テスト"
   ]
  },
  {
   "cell_type": "markdown",
   "metadata": {},
   "source": [
    "### 自己紹介要求chainテスト"
   ]
  },
  {
   "cell_type": "code",
   "execution_count": 193,
   "metadata": {},
   "outputs": [
    {
     "name": "stdout",
     "output_type": "stream",
     "text": [
      "👨‍💼 面接官：\n",
      "それでは、最初にあなたの自己紹介を1分（400字程度）でお願いします。\n",
      "これまでのご経歴やスキルについても触れていただければと思います。\n",
      "面接官：それでは、最初にあなたの自己紹介を1分（400字程度）でお願いします。\n",
      "これまでのご経歴やスキルについても触れていただければと思います。\n",
      "あなた：あいうえお\n"
     ]
    }
   ],
   "source": [
    "# 面接官セリフ\n",
    "print(\"👨‍💼 面接官：\")\n",
    "print(intro_message)\n",
    "\n",
    "# ユーザ自己紹介入力\n",
    "user_intro = input(\"🧑 あなた：\")\n",
    "\n",
    "# メモリ保存\n",
    "memory.chat_memory.add_message(AIMessage(content=intro_message))\n",
    "memory.chat_memory.add_message(HumanMessage(content=user_intro))\n",
    "\n",
    "# 会話履歴格納\n",
    "history_text = get_history_text(memory)\n",
    "print(history_text)\n",
    "# 履歴に記録されているか表示\n",
    "# print(\"\\n現在の会話メモリ：\")\n",
    "# for m in memory.chat_memory.messages:\n",
    "#     role = \"面接官\" if isinstance(m, AIMessage) else \"あなた\"\n",
    "#     print(f\"{role}：{m.content}\")"
   ]
  },
  {
   "cell_type": "code",
   "execution_count": 192,
   "metadata": {},
   "outputs": [],
   "source": [
    "# メモリクリア\n",
    "memory.clear()"
   ]
  },
  {
   "cell_type": "markdown",
   "metadata": {},
   "source": [
    "### 質問生成chain"
   ]
  },
  {
   "cell_type": "code",
   "execution_count": 197,
   "metadata": {},
   "outputs": [
    {
     "name": "stdout",
     "output_type": "stream",
     "text": [
      "👨‍💼 面接官の質問：\n",
      "- 「自動車業界からコンサル業界への転職にあたり、現在の業界で培った技術や知識をどのように活かす予定ですか？\n",
      "」\n"
     ]
    }
   ],
   "source": [
    "# 1問ずつ処理する場合の例（例：0番目の質問）\n",
    "i = 3\n",
    "selected_q = questions_list[i]\n",
    "\n",
    "evaluation_points = \"\\n\".join(\n",
    "    [f\"- {k}：{evaluation_points_list[k]}\" for k in selected_q[\"point_keys\"]]\n",
    ")\n",
    "\n",
    "question = selected_q[\"content\"]\n",
    "\n",
    "# チェーン実行時の引数\n",
    "inputs = {\n",
    "    \"question\": question,\n",
    "    \"evaluation_points\": evaluation_points\n",
    "}\n",
    "\n",
    "# print(inputs[\"question\"])\n",
    "# print()\n",
    "# print(inputs[\"evaluation_points\"])\n",
    "\n",
    "# チェーン呼び出し\n",
    "output = create_question_chain.invoke({\n",
    "    \"rules\": rules,\n",
    "    \"question\": question,\n",
    "    \"evaluation_points\": evaluation_points,\n",
    "    \"history\": history_text\n",
    "})\n",
    "\n",
    "# 質問出力\n",
    "formatted_output = add_newlines_by_period(output)\n",
    "print(\"👨‍💼 面接官の質問：\")\n",
    "print(formatted_output)\n",
    "\n",
    "# ユーザ回答\n",
    "user_answer = input(\"🧑 あなた：\")\n",
    "\n",
    "# 会話メモリ保存\n",
    "memory.chat_memory.add_message(AIMessage(content=output))\n",
    "memory.chat_memory.add_message(HumanMessage(content=user_answer))\n",
    "\n",
    "# 会話履歴格納\n",
    "history_text = get_history_text(memory)"
   ]
  },
  {
   "cell_type": "markdown",
   "metadata": {},
   "source": [
    "### テンポラリ"
   ]
  },
  {
   "cell_type": "code",
   "execution_count": 198,
   "metadata": {},
   "outputs": [
    {
     "name": "stdout",
     "output_type": "stream",
     "text": [
      "面接官：それでは、最初にあなたの自己紹介を1分（400字程度）でお願いします。\n",
      "これまでのご経歴やスキルについても触れていただければと思います。\n",
      "あなた：あいうえお\n",
      "面接官：- 自動車業界からコンサル業界に転職する際、プロジェクトマネジメントやクライアント対応のスキルが求められます。過去にどのようなプロジェクトをリードし、成功に導いた経験がありますか？\n",
      "あなた：たくさんあります。\n",
      "面接官：- 「自動車業界からコンサル業界への転職にあたり、現在の業界で培った技術や知識をどのように活かす予定ですか？」\n",
      "あなた：頑張ります。\n"
     ]
    }
   ],
   "source": [
    "print(history_text)"
   ]
  },
  {
   "cell_type": "code",
   "execution_count": 184,
   "metadata": {},
   "outputs": [
    {
     "name": "stdout",
     "output_type": "stream",
     "text": [
      "- 現職の取り組みに関する質問\n",
      "　- 評価ポイント：\"課題解決力\"、\"自走力\"\n",
      "　- 例：現在の仕事で課題があったとき、どう対応したか\n",
      "　　　　現在の仕事で一番頑張ったこと\n",
      "\n",
      "- 課題解決力：課題に対して仮説思考を持って解決するための行動ができるかを評価する\n",
      "- 自走力：仕事を自分ごととして捉えてやり切る力があるかを評価する\n"
     ]
    }
   ],
   "source": [
    "print(inputs[\"question\"])\n",
    "print()\n",
    "print(inputs[\"evaluation_points\"])"
   ]
  },
  {
   "cell_type": "code",
   "execution_count": 108,
   "metadata": {},
   "outputs": [
    {
     "name": "stdout",
     "output_type": "stream",
     "text": [
      "Human: \n",
      "\n",
      "# 前提条件\n",
      "- タイトル：他の企業へ転職するための面接対策ロールプレイ実施\n",
      "- 求職者情報：\n",
      "    - 年齢：30\n",
      "    - 現在の業界：自動車業界\n",
      "    - 現在の職種；機械系エンジニア\n",
      "    - 現在の役割；リーダー\n",
      "    - 経験年数：5\n",
      "- 面接官情報：コンサル業界、データサイエンティストの経験が15年の部長で面接官\n",
      "- 目的と目標：面接のロールプレイを通して依頼者の面接スキルアップ\n",
      "- 評価基準：\n",
      "　- リアリティのある面接ロールプレイであること\n",
      "　- 依頼者の面接スキルが上がるフィードバックをすること\n",
      "\n",
      "# 制約事項\n",
      "- 面接対象者が異業界または異業種への職種なのかを考慮し、質問内容を変えること\n",
      "　例：転職先特有の求められる人格を持っているかを判断するための質問をする\n",
      "- 職種未経験転職であれば専門スキルレベルのみは問うレベルは低く設定すること\n",
      "- 面接対象者の年齢を考慮して質問内容を変えること\n",
      "　例：20代：タスクを自分ごととして実行できるかを問う\n",
      "　　　30代前半：リーダとして部下のマネジメント、育成について問う\n",
      "　　　30代後半以降：事業を考えたマネジメントについて問う\n",
      "- ロールプレイは実際の面接官が話すような口調で実施すること\n",
      "- 面接が始まったら\"【質問1】〇〇を図る質問\"などタイトルにあたる部分は表示せず、リアルの面接のように質問のみを表示すること\n",
      "\n",
      "\n",
      "# 実行指示\n",
      "求職者情報を参考に評価ポイントを評価できる質問項目に関する質問を1つ出力すること。\n",
      "\n",
      "\n",
      "# 質問事項\n",
      "- 転職全般に関する質問\n",
      "　- 評価ポイント：\"定着性\"\n",
      "　- 例：志望動機、転職理由、なぜこの職種なのか　など\n",
      "\n",
      "# 評価ポイント\n",
      "- 定着性：転職理由、志望動機などから長く働いてくれるかを評価する\n",
      "\n"
     ]
    }
   ],
   "source": [
    "prompt_text = question_prompt.format(\n",
    "    rules=rules,\n",
    "    question=question,\n",
    "    evaluation_points=evaluation_points\n",
    ")\n",
    "\n",
    "# 出力して確認\n",
    "print(prompt_text)"
   ]
  },
  {
   "cell_type": "code",
   "execution_count": 15,
   "metadata": {},
   "outputs": [],
   "source": [
    "age = input(\"あなたの年齢を入力してください：\")\n",
    "current_job = input(\"現在の職種を入力してください：\")\n",
    "target_job = input(\"志望している職種を入力してください：\")"
   ]
  },
  {
   "cell_type": "code",
   "execution_count": 19,
   "metadata": {},
   "outputs": [
    {
     "name": "stdout",
     "output_type": "stream",
     "text": [
      "\n",
      "👨‍💼 面接官の質問：\n",
      "組み込みシステムエンジニアとしての経験を活かして、データサイエンスの世界に興味を持ったきっかけは何ですか？\n"
     ]
    }
   ],
   "source": [
    "# Systemプロンプトの定義\n",
    "system_prompt = f\"\"\"\n",
    "あなたは{target_job}職の面接官です。\n",
    "面接対象者は{age}歳で、現在の職種は{current_job}です。\n",
    "転職面接のロールプレイを開始します。まず1問、面接でよく聞かれる質問を1つしてください。\n",
    "\"\"\"\n",
    "\n",
    "# 会話のやりとり\n",
    "messages = [\n",
    "    SystemMessage(content=system_prompt),\n",
    "    HumanMessage(content=\"質問をお願いします\")\n",
    "]\n",
    "\n",
    "# モデルに実行\n",
    "response = llm.invoke(messages)\n",
    "\n",
    "# 出力\n",
    "print(\"\\n👨‍💼 面接官の質問：\")\n",
    "print(response.content)"
   ]
  },
  {
   "cell_type": "code",
   "execution_count": 21,
   "metadata": {},
   "outputs": [
    {
     "name": "stdout",
     "output_type": "stream",
     "text": [
      "age: 30\n",
      "current_job: 組み込みシステムエンジニア\n",
      "target_job: データサイエンティスト\n"
     ]
    }
   ],
   "source": [
    "print(\"age:\", age)\n",
    "print(\"current_job:\", current_job)\n",
    "print(\"target_job:\", target_job)"
   ]
  },
  {
   "cell_type": "code",
   "execution_count": 101,
   "metadata": {},
   "outputs": [
    {
     "name": "stdout",
     "output_type": "stream",
     "text": [
      "- 転職全般に関する質問\n",
      "　- 評価ポイント：\"定着性\"\n",
      "　- 例：志望動機、転職理由、なぜこの職種なのか　など\n",
      "\n",
      "- 定着性：転職理由、志望動機などから長く働いてくれるかを評価する\n"
     ]
    }
   ],
   "source": [
    "print(question)\n",
    "print()\n",
    "print(evaluation_points)"
   ]
  },
  {
   "cell_type": "code",
   "execution_count": null,
   "metadata": {},
   "outputs": [],
   "source": []
  }
 ],
 "metadata": {
  "kernelspec": {
   "display_name": "Python (openai_env)",
   "language": "python",
   "name": "openai_env"
  },
  "language_info": {
   "codemirror_mode": {
    "name": "ipython",
    "version": 3
   },
   "file_extension": ".py",
   "mimetype": "text/x-python",
   "name": "python",
   "nbconvert_exporter": "python",
   "pygments_lexer": "ipython3",
   "version": "3.10.16"
  }
 },
 "nbformat": 4,
 "nbformat_minor": 2
}
